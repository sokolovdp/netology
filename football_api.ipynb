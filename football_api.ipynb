{
 "cells": [
  {
   "cell_type": "code",
   "execution_count": 3,
   "metadata": {
    "collapsed": true
   },
   "outputs": [],
   "source": [
    "MY_API_TOKEN = 'e815c6fcf6d24a9da234bcd02d7e64bc'"
   ]
  },
  {
   "cell_type": "code",
   "execution_count": 68,
   "metadata": {},
   "outputs": [],
   "source": [
    "# import http.client\n",
    "# import json\n",
    "# connection = http.client.HTTPConnection('api.football-data.org')\n",
    "# headers = { 'X-Auth-Token': MY_API_TOKEN, 'X-Response-Control': 'minified' }\n",
    "# connection.request('GET', '/v1/soccerseasons/440/teams', None, headers )\n",
    "# response = json.loads(connection.getresponse().read().decode())\n",
    "# pprint(response)\n",
    "# teams = response['teams']\n",
    "# print(len(teams))\n",
    "# team_list = list()\n",
    "# for team in teams:\n",
    "#     name = team['shortName']\n",
    "#     if name:\n",
    "#         tid = team['id']\n",
    "#         value = int(team['squadMarketValue'].replace(',','').replace(' €','')) if team['squadMarketValue'] is not None else 0\n",
    "#         team_list.append({'tid':tid, 'name': name, 'value': value})\n",
    "# data = pd.DataFrame(team_list)\n",
    "# data.head()"
   ]
  },
  {
   "cell_type": "code",
   "execution_count": 40,
   "metadata": {
    "collapsed": true
   },
   "outputs": [],
   "source": [
    "import pandas as pd\n",
    "import requests"
   ]
  },
  {
   "cell_type": "code",
   "execution_count": 98,
   "metadata": {
    "collapsed": true
   },
   "outputs": [],
   "source": [
    "def call_football_api(uri, result_key):\n",
    "    result = requests.get(uri, headers = { 'X-Auth-Token': MY_API_TOKEN, 'X-Response-Control': 'full' })\n",
    "    if result.status_code == 200:\n",
    "        return result.json()[result_key]\n",
    "    else:\n",
    "        print('API is not reachable')\n",
    "        return None"
   ]
  },
  {
   "cell_type": "code",
   "execution_count": 99,
   "metadata": {},
   "outputs": [],
   "source": [
    "teams = call_football_api('http://api.football-data.org/v1/soccerseasons/440/teams', 'teams')\n",
    "# pprint(teams)"
   ]
  },
  {
   "cell_type": "code",
   "execution_count": 100,
   "metadata": {},
   "outputs": [],
   "source": [
    "teams_data = list()\n",
    "for team in teams:\n",
    "    name = team['name']\n",
    "    tid = team['_links']['self']['href'].split('/')[-1]\n",
    "    value = int(team['squadMarketValue'].replace(',','').replace(' €','')) if team['squadMarketValue'] is not None else 0\n",
    "    wins = 0\n",
    "    fixtures = call_football_api(team['_links']['fixtures']['href'], 'fixtures')\n",
    "    for f in fixtures:\n",
    "        if team['name'] == f['homeTeamName']:\n",
    "            wins += f['result']['goalsHomeTeam'] if f['result']['goalsHomeTeam'] else 0\n",
    "        else:\n",
    "            wins += f['result']['goalsAwayTeam'] if f['result']['goalsAwayTeam'] else 0\n",
    "    teams_data.append({'tid':tid, 'name': name, 'value': value, 'wins': wins})"
   ]
  },
  {
   "cell_type": "code",
   "execution_count": 101,
   "metadata": {},
   "outputs": [
    {
     "name": "stdout",
     "output_type": "stream",
     "text": [
      "32\n"
     ]
    },
    {
     "data": {
      "text/html": [
       "<div>\n",
       "<table border=\"1\" class=\"dataframe\">\n",
       "  <thead>\n",
       "    <tr style=\"text-align: right;\">\n",
       "      <th></th>\n",
       "      <th>name</th>\n",
       "      <th>tid</th>\n",
       "      <th>value</th>\n",
       "      <th>wins</th>\n",
       "    </tr>\n",
       "  </thead>\n",
       "  <tbody>\n",
       "    <tr>\n",
       "      <th>0</th>\n",
       "      <td>FC Basel</td>\n",
       "      <td>729</td>\n",
       "      <td>52900000</td>\n",
       "      <td>3</td>\n",
       "    </tr>\n",
       "    <tr>\n",
       "      <th>1</th>\n",
       "      <td>Ludogorez Rasgrad</td>\n",
       "      <td>753</td>\n",
       "      <td>40100000</td>\n",
       "      <td>8</td>\n",
       "    </tr>\n",
       "    <tr>\n",
       "      <th>2</th>\n",
       "      <td>FC Bayern München</td>\n",
       "      <td>5</td>\n",
       "      <td>566150000</td>\n",
       "      <td>110</td>\n",
       "    </tr>\n",
       "    <tr>\n",
       "      <th>3</th>\n",
       "      <td>FC Rostov</td>\n",
       "      <td>1104</td>\n",
       "      <td>0</td>\n",
       "      <td>15</td>\n",
       "    </tr>\n",
       "    <tr>\n",
       "      <th>4</th>\n",
       "      <td>PSV Eindhoven</td>\n",
       "      <td>674</td>\n",
       "      <td>113200000</td>\n",
       "      <td>66</td>\n",
       "    </tr>\n",
       "    <tr>\n",
       "      <th>5</th>\n",
       "      <td>Club Atlético de Madrid</td>\n",
       "      <td>78</td>\n",
       "      <td>501500000</td>\n",
       "      <td>72</td>\n",
       "    </tr>\n",
       "    <tr>\n",
       "      <th>6</th>\n",
       "      <td>FC Barcelona</td>\n",
       "      <td>81</td>\n",
       "      <td>756500000</td>\n",
       "      <td>117</td>\n",
       "    </tr>\n",
       "    <tr>\n",
       "      <th>7</th>\n",
       "      <td>Celtic FC</td>\n",
       "      <td>732</td>\n",
       "      <td>0</td>\n",
       "      <td>8</td>\n",
       "    </tr>\n",
       "    <tr>\n",
       "      <th>8</th>\n",
       "      <td>Dynamo Kyiv</td>\n",
       "      <td>842</td>\n",
       "      <td>123250000</td>\n",
       "      <td>8</td>\n",
       "    </tr>\n",
       "    <tr>\n",
       "      <th>9</th>\n",
       "      <td>SSC Napoli</td>\n",
       "      <td>113</td>\n",
       "      <td>332775000</td>\n",
       "      <td>88</td>\n",
       "    </tr>\n",
       "    <tr>\n",
       "      <th>10</th>\n",
       "      <td>SL Benfica</td>\n",
       "      <td>495</td>\n",
       "      <td>202850000</td>\n",
       "      <td>72</td>\n",
       "    </tr>\n",
       "    <tr>\n",
       "      <th>11</th>\n",
       "      <td>Besiktas JK</td>\n",
       "      <td>600</td>\n",
       "      <td>0</td>\n",
       "      <td>9</td>\n",
       "    </tr>\n",
       "    <tr>\n",
       "      <th>12</th>\n",
       "      <td>Paris Saint-Germain</td>\n",
       "      <td>524</td>\n",
       "      <td>465400000</td>\n",
       "      <td>87</td>\n",
       "    </tr>\n",
       "    <tr>\n",
       "      <th>13</th>\n",
       "      <td>Arsenal FC</td>\n",
       "      <td>57</td>\n",
       "      <td>492500000</td>\n",
       "      <td>97</td>\n",
       "    </tr>\n",
       "    <tr>\n",
       "      <th>14</th>\n",
       "      <td>Legia Warszawa</td>\n",
       "      <td>1105</td>\n",
       "      <td>0</td>\n",
       "      <td>9</td>\n",
       "    </tr>\n",
       "    <tr>\n",
       "      <th>15</th>\n",
       "      <td>Borussia Dortmund</td>\n",
       "      <td>4</td>\n",
       "      <td>376350000</td>\n",
       "      <td>98</td>\n",
       "    </tr>\n",
       "    <tr>\n",
       "      <th>16</th>\n",
       "      <td>Olympique Lyonnais</td>\n",
       "      <td>523</td>\n",
       "      <td>200800000</td>\n",
       "      <td>70</td>\n",
       "    </tr>\n",
       "    <tr>\n",
       "      <th>17</th>\n",
       "      <td>GNK Dinamo Zagreb</td>\n",
       "      <td>755</td>\n",
       "      <td>48250000</td>\n",
       "      <td>0</td>\n",
       "    </tr>\n",
       "    <tr>\n",
       "      <th>18</th>\n",
       "      <td>Juventus Turin</td>\n",
       "      <td>109</td>\n",
       "      <td>450800000</td>\n",
       "      <td>81</td>\n",
       "    </tr>\n",
       "    <tr>\n",
       "      <th>19</th>\n",
       "      <td>Sevilla FC</td>\n",
       "      <td>559</td>\n",
       "      <td>236000000</td>\n",
       "      <td>65</td>\n",
       "    </tr>\n",
       "    <tr>\n",
       "      <th>20</th>\n",
       "      <td>FC Porto</td>\n",
       "      <td>503</td>\n",
       "      <td>179750000</td>\n",
       "      <td>76</td>\n",
       "    </tr>\n",
       "    <tr>\n",
       "      <th>21</th>\n",
       "      <td>FC Copenhagen</td>\n",
       "      <td>725</td>\n",
       "      <td>0</td>\n",
       "      <td>9</td>\n",
       "    </tr>\n",
       "    <tr>\n",
       "      <th>22</th>\n",
       "      <td>Club Brugge</td>\n",
       "      <td>851</td>\n",
       "      <td>0</td>\n",
       "      <td>2</td>\n",
       "    </tr>\n",
       "    <tr>\n",
       "      <th>23</th>\n",
       "      <td>Leicester City FC</td>\n",
       "      <td>338</td>\n",
       "      <td>205300000</td>\n",
       "      <td>57</td>\n",
       "    </tr>\n",
       "    <tr>\n",
       "      <th>24</th>\n",
       "      <td>Real Madrid CF</td>\n",
       "      <td>86</td>\n",
       "      <td>764800000</td>\n",
       "      <td>110</td>\n",
       "    </tr>\n",
       "    <tr>\n",
       "      <th>25</th>\n",
       "      <td>Sporting CP</td>\n",
       "      <td>498</td>\n",
       "      <td>168750000</td>\n",
       "      <td>63</td>\n",
       "    </tr>\n",
       "    <tr>\n",
       "      <th>26</th>\n",
       "      <td>Bayer Leverkusen</td>\n",
       "      <td>3</td>\n",
       "      <td>273950000</td>\n",
       "      <td>55</td>\n",
       "    </tr>\n",
       "    <tr>\n",
       "      <th>27</th>\n",
       "      <td>CSKA Moscow</td>\n",
       "      <td>751</td>\n",
       "      <td>152650000</td>\n",
       "      <td>5</td>\n",
       "    </tr>\n",
       "    <tr>\n",
       "      <th>28</th>\n",
       "      <td>Manchester City FC</td>\n",
       "      <td>65</td>\n",
       "      <td>525250000</td>\n",
       "      <td>102</td>\n",
       "    </tr>\n",
       "    <tr>\n",
       "      <th>29</th>\n",
       "      <td>Bor. Mönchengladbach</td>\n",
       "      <td>18</td>\n",
       "      <td>163550000</td>\n",
       "      <td>49</td>\n",
       "    </tr>\n",
       "    <tr>\n",
       "      <th>30</th>\n",
       "      <td>Tottenham Hotspur FC</td>\n",
       "      <td>73</td>\n",
       "      <td>429000000</td>\n",
       "      <td>89</td>\n",
       "    </tr>\n",
       "    <tr>\n",
       "      <th>31</th>\n",
       "      <td>AS Monaco FC</td>\n",
       "      <td>548</td>\n",
       "      <td>197800000</td>\n",
       "      <td>118</td>\n",
       "    </tr>\n",
       "  </tbody>\n",
       "</table>\n",
       "</div>"
      ],
      "text/plain": [
       "                       name   tid      value  wins\n",
       "0                  FC Basel   729   52900000     3\n",
       "1         Ludogorez Rasgrad   753   40100000     8\n",
       "2         FC Bayern München     5  566150000   110\n",
       "3                 FC Rostov  1104          0    15\n",
       "4             PSV Eindhoven   674  113200000    66\n",
       "5   Club Atlético de Madrid    78  501500000    72\n",
       "6              FC Barcelona    81  756500000   117\n",
       "7                 Celtic FC   732          0     8\n",
       "8               Dynamo Kyiv   842  123250000     8\n",
       "9                SSC Napoli   113  332775000    88\n",
       "10               SL Benfica   495  202850000    72\n",
       "11              Besiktas JK   600          0     9\n",
       "12      Paris Saint-Germain   524  465400000    87\n",
       "13               Arsenal FC    57  492500000    97\n",
       "14           Legia Warszawa  1105          0     9\n",
       "15        Borussia Dortmund     4  376350000    98\n",
       "16       Olympique Lyonnais   523  200800000    70\n",
       "17        GNK Dinamo Zagreb   755   48250000     0\n",
       "18           Juventus Turin   109  450800000    81\n",
       "19               Sevilla FC   559  236000000    65\n",
       "20                 FC Porto   503  179750000    76\n",
       "21            FC Copenhagen   725          0     9\n",
       "22              Club Brugge   851          0     2\n",
       "23        Leicester City FC   338  205300000    57\n",
       "24           Real Madrid CF    86  764800000   110\n",
       "25              Sporting CP   498  168750000    63\n",
       "26         Bayer Leverkusen     3  273950000    55\n",
       "27              CSKA Moscow   751  152650000     5\n",
       "28       Manchester City FC    65  525250000   102\n",
       "29     Bor. Mönchengladbach    18  163550000    49\n",
       "30     Tottenham Hotspur FC    73  429000000    89\n",
       "31             AS Monaco FC   548  197800000   118"
      ]
     },
     "execution_count": 101,
     "metadata": {},
     "output_type": "execute_result"
    }
   ],
   "source": [
    "print(len(teams_data))\n",
    "data = pd.DataFrame(teams_data)\n",
    "data.head(32)"
   ]
  },
  {
   "cell_type": "code",
   "execution_count": 133,
   "metadata": {
    "collapsed": true
   },
   "outputs": [],
   "source": [
    "import matplotlib.pyplot as plt\n",
    "%matplotlib inline"
   ]
  },
  {
   "cell_type": "code",
   "execution_count": 152,
   "metadata": {},
   "outputs": [],
   "source": [
    "# fig, ax = plt.subplots(figsize=(15, 12))\n",
    "# ax.axis('off')\n",
    "\n",
    "# ax.scatter(data['value'], data['wins'], c='black', s=70)\n",
    "\n",
    "# for i in range(len(data)):\n",
    "#     ax.annotate(data['name'][i], (data['value'][i], data['wins'][i]))\n",
    "    "
   ]
  },
  {
   "cell_type": "code",
   "execution_count": 134,
   "metadata": {
    "collapsed": true
   },
   "outputs": [],
   "source": [
    "from scipy.cluster.vq import whiten, kmeans2"
   ]
  },
  {
   "cell_type": "code",
   "execution_count": 139,
   "metadata": {},
   "outputs": [],
   "source": [
    "whitened = whiten(data[['value', 'wins']].as_matrix())"
   ]
  },
  {
   "cell_type": "code",
   "execution_count": 149,
   "metadata": {},
   "outputs": [
    {
     "data": {
      "text/plain": [
       "(array([[ 2.18125739,  2.21067163],\n",
       "        [ 0.88543818,  1.59938743],\n",
       "        [ 3.17915532,  2.82195583],\n",
       "        [ 0.17326725,  0.17356513],\n",
       "        [ 1.38123329,  2.54562188]]),\n",
       " array([3, 3, 2, 3, 1, 0, 2, 3, 3, 4, 1, 3, 0, 0, 3, 4, 1, 3, 0, 1, 1, 3, 3,\n",
       "        1, 2, 1, 1, 3, 0, 1, 0, 4]))"
      ]
     },
     "execution_count": 149,
     "metadata": {},
     "output_type": "execute_result"
    }
   ],
   "source": [
    "centroids, cluster_map = kmeans2(whitened, 5)\n",
    "centroids, cluster_map"
   ]
  },
  {
   "cell_type": "code",
   "execution_count": 150,
   "metadata": {
    "collapsed": true
   },
   "outputs": [],
   "source": [
    "colors_map = {0: 'r', 1: 'g', 2: 'b', 3: 'y', 4: 'm'}\n",
    "colors = [colors_map[c] for c in cluster_map]"
   ]
  },
  {
   "cell_type": "code",
   "execution_count": 151,
   "metadata": {},
   "outputs": [
    {
     "data": {
      "image/png": "[encoded data removed]",
      "text/plain": [
       "<matplotlib.figure.Figure at 0x1775bf5d400>"
      ]
     },
     "metadata": {},
     "output_type": "display_data"
    }
   ],
   "source": [
    "fig, ax = plt.subplots(figsize=(15, 12))\n",
    "ax.axis('off')\n",
    "fig.suptitle(\"Классификация футбольных команд на основании их стоимости(ось Х) и кол-ва побед (ось Y)\", fontsize=16)\n",
    "ax.scatter(data['value'], data['wins'], c=colors, s=70)\n",
    "for i in range(len(data)):\n",
    "    ax.annotate(data['name'][i], (data['value'][i], data['wins'][i]))"
   ]
  },
  {
   "cell_type": "code",
   "execution_count": null,
   "metadata": {
    "collapsed": true
   },
   "outputs": [],
   "source": []
  }
 ],
 "metadata": {
  "kernelspec": {
   "display_name": "Python 3",
   "language": "python",
   "name": "python3"
  },
  "language_info": {
   "codemirror_mode": {
    "name": "ipython",
    "version": 3
   },
   "file_extension": ".py",
   "mimetype": "text/x-python",
   "name": "python",
   "nbconvert_exporter": "python",
   "pygments_lexer": "ipython3",
   "version": "3.6.1"
  }
 },
 "nbformat": 4,
 "nbformat_minor": 2
}
