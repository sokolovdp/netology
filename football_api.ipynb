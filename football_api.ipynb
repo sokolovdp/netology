{
 "cells": [
  {
   "cell_type": "code",
   "execution_count": 3,
   "metadata": {
    "collapsed": true
   },
   "outputs": [],
   "source": [
    "MY_API_TOKEN = 'e815c6fcf6d24a9da234bcd02d7e64bc'"
   ]
  },
  {
   "cell_type": "code",
   "execution_count": 68,
   "metadata": {
    "collapsed": true
   },
   "outputs": [],
   "source": [
    "# import http.client\n",
    "# import json\n",
    "# connection = http.client.HTTPConnection('api.football-data.org')\n",
    "# headers = { 'X-Auth-Token': MY_API_TOKEN, 'X-Response-Control': 'minified' }\n",
    "# connection.request('GET', '/v1/soccerseasons/440/teams', None, headers )\n",
    "# response = json.loads(connection.getresponse().read().decode())\n",
    "# pprint(response)\n",
    "# teams = response['teams']\n",
    "# print(len(teams))\n",
    "# team_list = list()\n",
    "# for team in teams:\n",
    "#     name = team['shortName']\n",
    "#     if name:\n",
    "#         tid = team['id']\n",
    "#         value = int(team['squadMarketValue'].replace(',','').replace(' €','')) if team['squadMarketValue'] is not None else 0\n",
    "#         team_list.append({'tid':tid, 'name': name, 'value': value})\n",
    "# data = pd.DataFrame(team_list)\n",
    "# data.head()"
   ]
  },
  {
   "cell_type": "code",
   "execution_count": 40,
   "metadata": {
    "collapsed": true
   },
   "outputs": [],
   "source": [
    "import pandas as pd\n",
    "import requests"
   ]
  },
  {
   "cell_type": "code",
   "execution_count": 98,
   "metadata": {
    "collapsed": true
   },
   "outputs": [],
   "source": [
    "def call_football_api(uri, result_key):\n",
    "    result = requests.get(uri, headers = { 'X-Auth-Token': MY_API_TOKEN, 'X-Response-Control': 'full' })\n",
    "    if result.status_code == 200:\n",
    "        return result.json()[result_key]\n",
    "    else:\n",
    "        print('API is not reachable')\n",
    "        return None"
   ]
  },
  {
   "cell_type": "code",
   "execution_count": 99,
   "metadata": {
    "collapsed": true
   },
   "outputs": [],
   "source": [
    "teams = call_football_api('http://api.football-data.org/v1/soccerseasons/440/teams', 'teams')\n",
    "# pprint(teams)"
   ]
  },
  {
   "cell_type": "code",
   "execution_count": 184,
   "metadata": {
    "collapsed": true
   },
   "outputs": [],
   "source": [
    "teams_data = list()\n",
    "for team in teams:\n",
    "    name = team['name']\n",
    "    tid = team['_links']['self']['href'].split('/')[-1]\n",
    "    value = int(team['squadMarketValue'].replace(',','').replace(' €','')) if team['squadMarketValue'] is not None else 0\n",
    "    wins = 0\n",
    "    losses = 0\n",
    "    goals = 0\n",
    "    fixtures = call_football_api(team['_links']['fixtures']['href'], 'fixtures')\n",
    "    for f in fixtures:\n",
    "        # pprint(f)\n",
    "        balls_home = f['result']['goalsHomeTeam'] if f['result']['goalsHomeTeam'] else 0\n",
    "        balls_away = f['result']['goalsAwayTeam'] if f['result']['goalsAwayTeam'] else 0\n",
    "        \n",
    "        if balls_home or balls_away:  # there are non zerovalid values\n",
    "            if name == f['homeTeamName']:\n",
    "                goals += balls_home\n",
    "                if balls_home > balls_away:\n",
    "                    wins += 1\n",
    "                elif balls_home < balls_away:\n",
    "                    losses +=1\n",
    "            else:\n",
    "                goals += balls_away\n",
    "                if balls_home < balls_away:\n",
    "                    wins += 1\n",
    "                elif balls_home > balls_away:\n",
    "                    losses +=1\n",
    "    teams_data.append({'tid':tid, 'name': name, 'value': value, 'wins': wins, 'losses': losses, 'goals': goals})"
   ]
  },
  {
   "cell_type": "code",
   "execution_count": 200,
   "metadata": {},
   "outputs": [
    {
     "name": "stdout",
     "output_type": "stream",
     "text": [
      "32\n"
     ]
    },
    {
     "data": {
      "text/html": [
       "<div>\n",
       "<table border=\"1\" class=\"dataframe\">\n",
       "  <thead>\n",
       "    <tr style=\"text-align: right;\">\n",
       "      <th></th>\n",
       "      <th>name</th>\n",
       "      <th>value</th>\n",
       "      <th>wins</th>\n",
       "      <th>goals</th>\n",
       "      <th>losses</th>\n",
       "    </tr>\n",
       "  </thead>\n",
       "  <tbody>\n",
       "    <tr>\n",
       "      <th>0</th>\n",
       "      <td>Real Madrid CF</td>\n",
       "      <td>764800000</td>\n",
       "      <td>30</td>\n",
       "      <td>110</td>\n",
       "      <td>2</td>\n",
       "    </tr>\n",
       "    <tr>\n",
       "      <th>1</th>\n",
       "      <td>FC Barcelona</td>\n",
       "      <td>756500000</td>\n",
       "      <td>28</td>\n",
       "      <td>117</td>\n",
       "      <td>7</td>\n",
       "    </tr>\n",
       "    <tr>\n",
       "      <th>2</th>\n",
       "      <td>FC Bayern München</td>\n",
       "      <td>566150000</td>\n",
       "      <td>31</td>\n",
       "      <td>110</td>\n",
       "      <td>6</td>\n",
       "    </tr>\n",
       "    <tr>\n",
       "      <th>3</th>\n",
       "      <td>Manchester City FC</td>\n",
       "      <td>525250000</td>\n",
       "      <td>28</td>\n",
       "      <td>102</td>\n",
       "      <td>8</td>\n",
       "    </tr>\n",
       "    <tr>\n",
       "      <th>4</th>\n",
       "      <td>Club Atlético de Madrid</td>\n",
       "      <td>501500000</td>\n",
       "      <td>26</td>\n",
       "      <td>72</td>\n",
       "      <td>6</td>\n",
       "    </tr>\n",
       "    <tr>\n",
       "      <th>5</th>\n",
       "      <td>Arsenal FC</td>\n",
       "      <td>492500000</td>\n",
       "      <td>25</td>\n",
       "      <td>97</td>\n",
       "      <td>10</td>\n",
       "    </tr>\n",
       "    <tr>\n",
       "      <th>6</th>\n",
       "      <td>Paris Saint-Germain</td>\n",
       "      <td>465400000</td>\n",
       "      <td>28</td>\n",
       "      <td>87</td>\n",
       "      <td>5</td>\n",
       "    </tr>\n",
       "    <tr>\n",
       "      <th>7</th>\n",
       "      <td>Juventus Turin</td>\n",
       "      <td>450800000</td>\n",
       "      <td>33</td>\n",
       "      <td>81</td>\n",
       "      <td>4</td>\n",
       "    </tr>\n",
       "    <tr>\n",
       "      <th>8</th>\n",
       "      <td>Tottenham Hotspur FC</td>\n",
       "      <td>429000000</td>\n",
       "      <td>27</td>\n",
       "      <td>89</td>\n",
       "      <td>6</td>\n",
       "    </tr>\n",
       "    <tr>\n",
       "      <th>9</th>\n",
       "      <td>Borussia Dortmund</td>\n",
       "      <td>376350000</td>\n",
       "      <td>22</td>\n",
       "      <td>98</td>\n",
       "      <td>9</td>\n",
       "    </tr>\n",
       "    <tr>\n",
       "      <th>10</th>\n",
       "      <td>SSC Napoli</td>\n",
       "      <td>332775000</td>\n",
       "      <td>24</td>\n",
       "      <td>88</td>\n",
       "      <td>7</td>\n",
       "    </tr>\n",
       "    <tr>\n",
       "      <th>11</th>\n",
       "      <td>Bayer Leverkusen</td>\n",
       "      <td>273950000</td>\n",
       "      <td>13</td>\n",
       "      <td>55</td>\n",
       "      <td>14</td>\n",
       "    </tr>\n",
       "    <tr>\n",
       "      <th>12</th>\n",
       "      <td>Sevilla FC</td>\n",
       "      <td>236000000</td>\n",
       "      <td>22</td>\n",
       "      <td>65</td>\n",
       "      <td>8</td>\n",
       "    </tr>\n",
       "    <tr>\n",
       "      <th>13</th>\n",
       "      <td>Leicester City FC</td>\n",
       "      <td>205300000</td>\n",
       "      <td>16</td>\n",
       "      <td>57</td>\n",
       "      <td>19</td>\n",
       "    </tr>\n",
       "    <tr>\n",
       "      <th>14</th>\n",
       "      <td>SL Benfica</td>\n",
       "      <td>202850000</td>\n",
       "      <td>25</td>\n",
       "      <td>72</td>\n",
       "      <td>5</td>\n",
       "    </tr>\n",
       "    <tr>\n",
       "      <th>15</th>\n",
       "      <td>Olympique Lyonnais</td>\n",
       "      <td>200800000</td>\n",
       "      <td>19</td>\n",
       "      <td>70</td>\n",
       "      <td>14</td>\n",
       "    </tr>\n",
       "    <tr>\n",
       "      <th>16</th>\n",
       "      <td>AS Monaco FC</td>\n",
       "      <td>197800000</td>\n",
       "      <td>33</td>\n",
       "      <td>118</td>\n",
       "      <td>6</td>\n",
       "    </tr>\n",
       "    <tr>\n",
       "      <th>17</th>\n",
       "      <td>FC Porto</td>\n",
       "      <td>179750000</td>\n",
       "      <td>24</td>\n",
       "      <td>76</td>\n",
       "      <td>4</td>\n",
       "    </tr>\n",
       "    <tr>\n",
       "      <th>18</th>\n",
       "      <td>Sporting CP</td>\n",
       "      <td>168750000</td>\n",
       "      <td>20</td>\n",
       "      <td>63</td>\n",
       "      <td>9</td>\n",
       "    </tr>\n",
       "    <tr>\n",
       "      <th>19</th>\n",
       "      <td>Bor. Mönchengladbach</td>\n",
       "      <td>163550000</td>\n",
       "      <td>16</td>\n",
       "      <td>49</td>\n",
       "      <td>15</td>\n",
       "    </tr>\n",
       "    <tr>\n",
       "      <th>20</th>\n",
       "      <td>CSKA Moscow</td>\n",
       "      <td>152650000</td>\n",
       "      <td>0</td>\n",
       "      <td>5</td>\n",
       "      <td>3</td>\n",
       "    </tr>\n",
       "    <tr>\n",
       "      <th>21</th>\n",
       "      <td>Dynamo Kyiv</td>\n",
       "      <td>123250000</td>\n",
       "      <td>1</td>\n",
       "      <td>8</td>\n",
       "      <td>3</td>\n",
       "    </tr>\n",
       "    <tr>\n",
       "      <th>22</th>\n",
       "      <td>PSV Eindhoven</td>\n",
       "      <td>113200000</td>\n",
       "      <td>20</td>\n",
       "      <td>66</td>\n",
       "      <td>6</td>\n",
       "    </tr>\n",
       "    <tr>\n",
       "      <th>23</th>\n",
       "      <td>FC Basel</td>\n",
       "      <td>52900000</td>\n",
       "      <td>0</td>\n",
       "      <td>3</td>\n",
       "      <td>4</td>\n",
       "    </tr>\n",
       "    <tr>\n",
       "      <th>24</th>\n",
       "      <td>GNK Dinamo Zagreb</td>\n",
       "      <td>48250000</td>\n",
       "      <td>0</td>\n",
       "      <td>0</td>\n",
       "      <td>6</td>\n",
       "    </tr>\n",
       "    <tr>\n",
       "      <th>25</th>\n",
       "      <td>Ludogorez Rasgrad</td>\n",
       "      <td>40100000</td>\n",
       "      <td>1</td>\n",
       "      <td>8</td>\n",
       "      <td>3</td>\n",
       "    </tr>\n",
       "    <tr>\n",
       "      <th>26</th>\n",
       "      <td>Legia Warszawa</td>\n",
       "      <td>0</td>\n",
       "      <td>1</td>\n",
       "      <td>9</td>\n",
       "      <td>4</td>\n",
       "    </tr>\n",
       "    <tr>\n",
       "      <th>27</th>\n",
       "      <td>FC Copenhagen</td>\n",
       "      <td>0</td>\n",
       "      <td>3</td>\n",
       "      <td>9</td>\n",
       "      <td>1</td>\n",
       "    </tr>\n",
       "    <tr>\n",
       "      <th>28</th>\n",
       "      <td>Club Brugge</td>\n",
       "      <td>0</td>\n",
       "      <td>0</td>\n",
       "      <td>2</td>\n",
       "      <td>6</td>\n",
       "    </tr>\n",
       "    <tr>\n",
       "      <th>29</th>\n",
       "      <td>Besiktas JK</td>\n",
       "      <td>0</td>\n",
       "      <td>1</td>\n",
       "      <td>9</td>\n",
       "      <td>1</td>\n",
       "    </tr>\n",
       "    <tr>\n",
       "      <th>30</th>\n",
       "      <td>Celtic FC</td>\n",
       "      <td>0</td>\n",
       "      <td>1</td>\n",
       "      <td>8</td>\n",
       "      <td>3</td>\n",
       "    </tr>\n",
       "    <tr>\n",
       "      <th>31</th>\n",
       "      <td>FC Rostov</td>\n",
       "      <td>0</td>\n",
       "      <td>3</td>\n",
       "      <td>15</td>\n",
       "      <td>3</td>\n",
       "    </tr>\n",
       "  </tbody>\n",
       "</table>\n",
       "</div>"
      ],
      "text/plain": [
       "                       name      value  wins  goals  losses\n",
       "0            Real Madrid CF  764800000    30    110       2\n",
       "1              FC Barcelona  756500000    28    117       7\n",
       "2         FC Bayern München  566150000    31    110       6\n",
       "3        Manchester City FC  525250000    28    102       8\n",
       "4   Club Atlético de Madrid  501500000    26     72       6\n",
       "5                Arsenal FC  492500000    25     97      10\n",
       "6       Paris Saint-Germain  465400000    28     87       5\n",
       "7            Juventus Turin  450800000    33     81       4\n",
       "8      Tottenham Hotspur FC  429000000    27     89       6\n",
       "9         Borussia Dortmund  376350000    22     98       9\n",
       "10               SSC Napoli  332775000    24     88       7\n",
       "11         Bayer Leverkusen  273950000    13     55      14\n",
       "12               Sevilla FC  236000000    22     65       8\n",
       "13        Leicester City FC  205300000    16     57      19\n",
       "14               SL Benfica  202850000    25     72       5\n",
       "15       Olympique Lyonnais  200800000    19     70      14\n",
       "16             AS Monaco FC  197800000    33    118       6\n",
       "17                 FC Porto  179750000    24     76       4\n",
       "18              Sporting CP  168750000    20     63       9\n",
       "19     Bor. Mönchengladbach  163550000    16     49      15\n",
       "20              CSKA Moscow  152650000     0      5       3\n",
       "21              Dynamo Kyiv  123250000     1      8       3\n",
       "22            PSV Eindhoven  113200000    20     66       6\n",
       "23                 FC Basel   52900000     0      3       4\n",
       "24        GNK Dinamo Zagreb   48250000     0      0       6\n",
       "25        Ludogorez Rasgrad   40100000     1      8       3\n",
       "26           Legia Warszawa          0     1      9       4\n",
       "27            FC Copenhagen          0     3      9       1\n",
       "28              Club Brugge          0     0      2       6\n",
       "29              Besiktas JK          0     1      9       1\n",
       "30                Celtic FC          0     1      8       3\n",
       "31                FC Rostov          0     3     15       3"
      ]
     },
     "execution_count": 200,
     "metadata": {},
     "output_type": "execute_result"
    }
   ],
   "source": [
    "print(len(teams_data))\n",
    "data = pd.DataFrame(teams_data)\n",
    "data = data[['name', 'value', 'wins', 'goals', 'losses']].sort_values(by='value', axis=0, ascending=False).reset_index(drop=True)\n",
    "data.head(32)"
   ]
  },
  {
   "cell_type": "code",
   "execution_count": 201,
   "metadata": {
    "collapsed": true
   },
   "outputs": [],
   "source": [
    "import matplotlib.pyplot as plt\n",
    "%matplotlib inline"
   ]
  },
  {
   "cell_type": "code",
   "execution_count": 164,
   "metadata": {
    "collapsed": true
   },
   "outputs": [],
   "source": [
    "# fig, ax = plt.subplots(figsize=(15, 12))\n",
    "# ax.axis('off')\n",
    "\n",
    "# ax.scatter(data['value'], data['wins'], c='black', s=70)\n",
    "\n",
    "# for i in range(len(data)):\n",
    "#     ax.annotate(data['name'][i], (data['value'][i], data['wins'][i]))\n",
    "    "
   ]
  },
  {
   "cell_type": "code",
   "execution_count": 202,
   "metadata": {
    "collapsed": true
   },
   "outputs": [],
   "source": [
    "from scipy.cluster.vq import whiten, kmeans2"
   ]
  },
  {
   "cell_type": "code",
   "execution_count": 203,
   "metadata": {
    "collapsed": true
   },
   "outputs": [],
   "source": [
    "whitened = whiten(data[['value', 'wins']].as_matrix())"
   ]
  },
  {
   "cell_type": "code",
   "execution_count": 205,
   "metadata": {},
   "outputs": [
    {
     "data": {
      "text/plain": [
       "(array([[ 2.51389003,  2.38583188],\n",
       "        [ 0.85709796,  1.4538663 ],\n",
       "        [ 1.16167595,  2.09692255],\n",
       "        [ 0.17326725,  0.0838769 ]]),\n",
       " array([0, 0, 0, 0, 0, 0, 0, 0, 0, 2, 2, 1, 2, 1, 2, 1, 2, 2, 1, 1, 3, 3, 1,\n",
       "        3, 3, 3, 3, 3, 3, 3, 3, 3]))"
      ]
     },
     "execution_count": 205,
     "metadata": {},
     "output_type": "execute_result"
    }
   ],
   "source": [
    "centroids, cluster_map = kmeans2(whitened, 4)\n",
    "centroids, cluster_map"
   ]
  },
  {
   "cell_type": "code",
   "execution_count": 206,
   "metadata": {
    "collapsed": true
   },
   "outputs": [],
   "source": [
    "colors_map = {0: 'r', 1: 'g', 2: 'b', 3: 'y', 4: 'm'}\n",
    "colors = [colors_map[c] for c in cluster_map]"
   ]
  },
  {
   "cell_type": "code",
   "execution_count": 207,
   "metadata": {},
   "outputs": [
    {
     "data": {
      "image/png": "[encoded data removed]",
      "text/plain": [
       "<matplotlib.figure.Figure at 0x1775ec602b0>"
      ]
     },
     "metadata": {},
     "output_type": "display_data"
    }
   ],
   "source": [
    "fig, ax = plt.subplots(figsize=(15, 12))\n",
    "ax.axis('off')\n",
    "fig.suptitle(\"Классификация футбольных команд на основании их стоимости(ось Х) и кол-ва побед (ось Y)\", fontsize=16)\n",
    "ax.scatter(data['value'], data['wins'], c=colors, s=70)\n",
    "for i in range(len(data)):\n",
    "    ax.annotate(data['name'][i], (data['value'][i], data['wins'][i]))"
   ]
  },
  {
   "cell_type": "code",
   "execution_count": null,
   "metadata": {
    "collapsed": true
   },
   "outputs": [],
   "source": []
  }
 ],
 "metadata": {
  "kernelspec": {
   "display_name": "Python 3",
   "language": "python",
   "name": "python3"
  },
  "language_info": {
   "codemirror_mode": {
    "name": "ipython",
    "version": 3
   },
   "file_extension": ".py",
   "mimetype": "text/x-python",
   "name": "python",
   "nbconvert_exporter": "python",
   "pygments_lexer": "ipython3",
   "version": "3.6.1"
  }
 },
 "nbformat": 4,
 "nbformat_minor": 2
}
