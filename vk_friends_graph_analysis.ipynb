{
 "cells": [
  {
   "cell_type": "code",
   "execution_count": 1,
   "metadata": {
    "collapsed": false,
    "deletable": true,
    "editable": true
   },
   "outputs": [],
   "source": [
    "import networkx as nx\n",
    "import matplotlib.pyplot as plt\n",
    "\n",
    "FRIENDS_IDS_FILE = 'vk_all_friends_data.csv'\n",
    "GRAPH_PIC_FILE = \"G_graph_nx.png\"\n",
    "\n",
    "\n",
    "def load_friends_data():\n",
    "    with open(FRIENDS_IDS_FILE) as csv_file:\n",
    "         lines = csv_file.readlines()\n",
    "    data = list()\n",
    "    print(\"loaded friend's data of\", len(lines), \"users\")\n",
    "    for line in lines:\n",
    "        row = line.strip().split(',')\n",
    "        data.append((int(row[0]), row[1], list(map(int, row[2:])))) \n",
    "    return data"
   ]
  },
  {
   "cell_type": "code",
   "execution_count": 2,
   "metadata": {
    "collapsed": false,
    "deletable": true,
    "editable": true
   },
   "outputs": [
    {
     "name": "stdout",
     "output_type": "stream",
     "text": [
      "loaded friend's data of 143 users\n"
     ]
    }
   ],
   "source": [
    "# загружаем данные по друзьям\n",
    "friends_data = load_friends_data()"
   ]
  },
  {
   "cell_type": "code",
   "execution_count": 3,
   "metadata": {
    "collapsed": false,
    "deletable": true,
    "editable": true
   },
   "outputs": [
    {
     "name": "stdout",
     "output_type": "stream",
     "text": [
      "added 38671 ids, created 31711 nodes and 37979 edges\n",
      "removed 28776 singleton nodes, final graph has 2935 nodes and 9203 edges\n"
     ]
    }
   ],
   "source": [
    "# строим граф G вершины - друзья, грани - френды в ВК\n",
    "\n",
    "G=nx.Graph()\n",
    "total_ids = 0\n",
    "\n",
    "for friend in friends_data:\n",
    "    key_id = friend[0]\n",
    "    G.add_node(key_id)\n",
    "    total_ids += 1\n",
    "    # print(friend[0], end=' ')\n",
    "    for f_id in friend[2]:\n",
    "        G.add_node(f_id)\n",
    "        G.add_edge(key_id, f_id)\n",
    "        total_ids += 1\n",
    "print('added', total_ids, \"ids, created\", G.number_of_nodes(), \"nodes and\", G.number_of_edges(), \"edges\")\n",
    "\n",
    "outdeg = G.degree()\n",
    "to_remove = [n for n in outdeg if outdeg[n] == 1]\n",
    "G.remove_nodes_from(to_remove)\n",
    "\n",
    "print(\"removed\", len(to_remove), 'single edge nodes, final graph has', G.number_of_nodes(), \n",
    "      \"nodes and\", G.number_of_edges(), \"edges\")"
   ]
  },
  {
   "cell_type": "code",
   "execution_count": 43,
   "metadata": {
    "collapsed": false,
    "deletable": true,
    "editable": true
   },
   "outputs": [],
   "source": [
    "# рисуем красивый большой граф дружеских связей\n",
    "\n",
    "root_nodes = friends_data[0][2].copy() # main friends of root friend\n",
    "root_nodes.remove(419754220)           # remove single edge node\n",
    "main_node = [friends_data[0][0]]       # root node - my friend\n",
    "\n",
    "plt.clf()\n",
    "plt.figure(figsize=(100, 80))\n",
    "\n",
    "# remove all ticks (both axes), and tick labels on the Y axis\n",
    "plt.tick_params(top='off', bottom='off', left='off', right='off', labelleft='off', labelbottom='on')\n",
    "\n",
    "# remove the frame of the chart\n",
    "for spine in plt.gca().spines.values():\n",
    "    spine.set_visible(False)\n",
    "\n",
    "nx.draw_networkx(G, pos=nx.spring_layout(G), node_size=400, with_labels=False, alpha=0.8, nodelist=root_nodes, node_color='b')\n",
    "nx.draw_networkx(G, pos=nx.spring_layout(G), node_size=800, with_labels=False, alpha=0.8, nodelist=main_node, node_color='r')\n",
    "\n",
    "plt.savefig(GRAPH_PIC_FILE)\n",
    "\n",
    "print(\"Done\")"
   ]
  },
  {
   "cell_type": "code",
   "execution_count": 48,
   "metadata": {
    "collapsed": false,
    "deletable": true,
    "editable": true,
    "scrolled": false
   },
   "outputs": [
    {
     "name": "stdout",
     "output_type": "stream",
     "text": [
      "Анна Матлашевская common friends are: 1368224 1766113 1946088 1182313 1434553 2043322\n",
      "Иван Асютин common friends are: 36297089 2623148 17874550 22293852\n",
      "Ольга Теплова common friends are: 9680104 4772370\n",
      "Лана Логинова common friends are: 3809953 11285412 2011659 1742071 142511067 72843068 83914269 2593150 30251903\n",
      "Алексей Сапунков common friends are: 5682339 2355943 1598250 3743189 50123030 621178 142511067 1763132\n",
      "Олеся Силина common friends are: None\n",
      "Алексей Александрович common friends are: 5838110\n",
      "Ирина Макеева common friends are: 5682339 392067 1598250 1239374 2881877 142511067 1763132\n",
      "Katerina Konovalove common friends are: 2365408 1565095 28434247 11781737 3202985 5762549\n",
      "Валерия Иванькова common friends are: 1805028 2230277 144226374 2961415 261369 1183601 4772370 1978579 2083832 2577145 2859871\n",
      "Maria Volkova common friends are: 3809953 1583846 2402534 743257 1460735\n",
      "Элина Вольфман common friends are: 2402534 1583846 1729425 714739 1460735\n",
      "Роман Кочергин common friends are: None\n",
      "Just Дима common friends are: 36297089 46922235 2623148 17874550\n",
      "Наталия Рева common friends are: 63989018 2038124\n",
      "Наталья Сотникова common friends are: None\n",
      "Антон Щогалев common friends are: 3809953\n",
      "Васек-Добрый Кот-Соляник common friends are: 14330888 3086307 1649998\n",
      "Denis B common friends are: None\n",
      "Толик Кобыльченко common friends are: 6833282 75048 1946088 157224076 1434553 2043322\n",
      "Сергей Кляус common friends are: 3809953 1805028 2230277 144226374 2961415 9680104 261369 2083832 4772370 1978579 659448 2577145 2859871\n",
      "Алексей Ласточкин common friends are: 96171910\n",
      "Александра Пономарева common friends are: 2445633 1638978 1847022 50123030 621178 13722077\n",
      "Elisaveta Doberman common friends are: None\n",
      "Станислав Лаур common friends are: 75048 1182313 1946088 14127115 45922251 54977870 1434553 2043322\n",
      "Виктория Зеленкова common friends are: 11781737 3202985 28434247\n",
      "Дмитрий Мухаметов common friends are: 45922251\n",
      "Игорь Йьъ common friends are: 1368224 1766113 6833282 20917763 75048 1182313 1946088 157224076 152080588 331948397 17128498 2043322 4362971 2099646\n",
      "Лилечка Сметанина common friends are: 743257 714739 2402534\n",
      "Мари Лоба common friends are: 2365408 49870211 2688232 152080588 3322637 138587727 47699516 173133791\n",
      "Александр Палиев common friends are: 2365408 657441 3809953 1766113 1742071\n",
      "Алю Иванова common friends are: 2043322\n",
      "Мария Купцова common friends are: 743257 714739 2402534\n",
      "Виталий Филин common friends are: 13722077 2445633 2057020 2355943 1598250 14127115 2011659 1847022 1239374 50123030 1763132 83914269\n",
      "Александр Львов common friends are: 14330888 3086307 1123527\n",
      "Vara Gavarskii common friends are: 743257 2402534\n",
      "Pavel Mogilevskij common friends are: 3809953 11285412 28434247 1565095 11781737 152080588 3322637 331948397 16651412 18509685 5762549 381147 72843068 83914269 30251903\n",
      "Ростам Мгоян common friends are: 1638978 5682339 392067 2355943 1598250 14127115 1847022 78324433 3743189 50123030 621178 142511067 2057020 13722077\n",
      "Николай Романенко common friends are: 6833282 20917763 49870211 144226374 1565095 75048 1946088 157224076 152080588 331948397 138587727 17128498 5762549 50123030 1434553 2043322 4362971 173133791\n",
      "Кирилл Панькин common friends are: 2230277 144226374 2961415 261369 2083832 1183601 4772370 1978579 659448 2577145 2859871\n",
      "Георгий Окуджава common friends are: 36297089 16703483 2623148\n",
      "Алексей Потапов common friends are: 13722077 2445633 1638978 2355943 1598250 2011659 1239374 50123030 1763132 83914269\n",
      "Елена Кускова common friends are: 96171910\n",
      "Mateu Falcone common friends are: 1368224 1766113 6833282 20917763 2961415 75048 1182313 157224076 152080588 17128498 5762549 1434553 2043322 4362971\n",
      "Павел Куцев common friends are: 1805028 2230277 144226374 2961415 261369 2083832 1183601 4772370 659448 2577145 2859871\n",
      "Ирина Курская common friends are: 3809953 1638978 2445633 142511067 1598250 14127115 1847022 3743189 50123030 381147 2057020 13722077\n",
      "Ирина Рева common friends are: 1011081\n",
      "Роман Чекунов common friends are: 1368224 3809953 6833282 20917763 1766113 49870211 1580450 75048 1182313 1946088 157224076 152080588 138587727 17128498 1434553 4362971 2099646 173133791\n",
      "Сергей Орлов common friends are: 1638978 1598250 14127115 2011659 2881877 142511067 1763132\n",
      "Елена Тарасова common friends are: 1805028 2230277 144226374 2961415 9680104 261369 1183601 4772370 1978579 659448 2577145 2859871\n",
      "Ulya Elhova common friends are: 6833282 152080588 157224076 17128498 1434553 2043322\n",
      "Екатерина Шаповалова common friends are: 3809953 1805028 261369 144226374 2961415 9680104 2083832 1183601 4772370 1978579 659448 2577145 2859871\n",
      "Andrey Ilman common friends are: 2445633 1638978 5682339 392067 1598250 14127115 1847022 78324433 3743189 50123030 1763132 13722077\n",
      "Наталия Петрова common friends are: 657441 1506116 2961415 2688232 28434247 1565095 3202985 331948397 16651412 5762549\n",
      "Александр Сметанин common friends are: 1583846 1729425 714739 743257 1460735\n",
      "Артуш Мкртчян common friends are: None\n",
      "Galina Simakova common friends are: 3809953 1638978 2355943 2011659 1847022 1239374 50123030\n",
      "Женя Сказкина common friends are: 121539298 142511067 7786100\n",
      "Саша Белов common friends are: 1805028 2230277 144226374 2961415 9680104 2083832 1183601 4772370 1978579 659448 261369 2859871\n",
      "Alex Kamenskiy common friends are: 3809953 381147 2881877\n",
      "Татьяна Королева common friends are: 36297089 964710 63438150 16703483 1823948 395569612 257558165 17874550 221636185 33396922 122011 22045340\n",
      "Юлия Лукьянова common friends are: 2365408 1506116 152080588 54977870 21410611\n",
      "Katrin Alaenkova common friends are: 1805028 2230277 144226374 2961415 261369 2083832 1183601 4772370 1978579 659448 2577145\n",
      "Manga Boomanga common friends are: 621178 2057020 2593150\n",
      "Anechka Markelova common friends are: 95781072 43845889\n",
      "Alexey Ivchenko common friends are: 2365408 3809953 1805028 2230277 144226374 135505636 261369 3202985 1946088 2083832 1183601 4772370 1978579 659448 2577145 2859871\n",
      "Алексей Львов common friends are: 14330888 1649998 1123527\n",
      "Татьяна Роганова common friends are: 2365408 657441 28434247 2961415 11781737 5762549 1368249\n",
      "Юра Малышев common friends are: 1506116 28434247 11781737 1742071 108326072 47775839\n",
      "Василий Абрамович common friends are: 5682339 392067 2355943 1598250 14127115 2011659 78324433 1763132 13722077\n",
      "Irina Loginova common friends are: 49870211 2230277 2961415 2011659 16651412 83914269 11285412 1565095 2043322 72843068 2445633 1119814 28434247 45922251 381147 142511067 331948397 1183601 714739 18509685 1742071 2593150 30251903\n",
      "Виктория Зиминова common friends are: 17874550\n",
      "Арнольд Григорян common friends are: 1766113 6833282 1946088 157224076 1434553 2043322\n",
      "Евгений Пугач common friends are: 1805028 2230277 144226374 2961415 9680104 261369 2083832 1183601 1978579 659448 2577145 2859871\n",
      "Артём Sharanoff common friends are: 392067 2355943 14127115 3743189 621178 1763132 13722077\n",
      "Тариел Микеладзе common friends are: 2365408 657441 1766113 28434247 1946088 3202985 16651412 1742071 30251903\n",
      "Александр Ковалёв common friends are: None\n",
      "Михаил Цхадая common friends are: 1766113 20917763 1946088 1182313 157224076 152080588 17128498 1434553 2043322 4362971 2099646\n",
      "Наталья Валентайн common friends are: 121539298 2469813\n",
      "Светлана Телегина common friends are: None\n",
      "Артур Пригаев common friends are: None\n",
      "Инна Островская common friends are: 2230277 1183601 4772370 2577145 2083832 261369\n",
      "Мария Михайлова common friends are: 3809953 331948397 18509685 1742071 381147 72843068 83914269 30251903\n",
      "Семен Доркин common friends are: 657441 28434247 1565095 3202985 152080588 3322637 1742071 1368249 72843068\n",
      "Наталья Сусалёва common friends are: 1638978 5682339 2355943 1598250 14127115 2011659 1847022 1239374 3743189 50123030 621178 142511067 1763132\n",
      "Сергей Гловацкий common friends are: 1368224 1638978 5682339 2057020 2355943 1598250 2011659 78324433 3743189 50123030 142511067 1763132 13722077\n",
      "Рамина Львова-Базарбаева common friends are: 3086307 1649998 1123527\n",
      "Неля Габбасова common friends are: 45922251\n",
      "Сергей Телегин common friends are: None\n",
      "Яр Ярославов common friends are: 2365408 3809953 1565095 5762549 1742071\n",
      "Mon Tana common friends are: 36297089 1823948 2623148 82453905 46922235 22293852\n",
      "Андрей Макаров common friends are: 1766113 6833282 1946088 152080588 157224076 1434553 2043322 2099646\n",
      "Анжела Кокутенко common friends are: 3885281 36297089 964710 2623148 46922235 221636185 33396922 122011 22293852\n",
      "Максим Чубалин common friends are: 3809953 11285412 1742071 72843068 83914269 30251903\n",
      "Vander Bocharoff common friends are: 1766113 6833282 1946088 152080588 157224076 138587727 1434553 2043322 173133791\n",
      "Игорь Ставицкий common friends are: 2688232 152080588 47699516 54977870\n",
      "Эдгар Рахматуллин common friends are: 36297089 2623148 219913741 63438150\n",
      "Спартак Бабоян common friends are: 36297089 16703483 17874550 46922235 122011\n",
      "Виктор Воеводов common friends are: 2365408 657441 3809953 1565095 11781737 3202985 152080588 3322637 5762549 1742071 1368249\n",
      "Ika Gago common friends are: 3809953 11285412 18509685 5762549 1742071 381147 72843068 83914269\n",
      "Максим Ларичев common friends are: 2623148 17874550\n",
      "Алина Полякова common friends are: 964710 16703483 2623148 1823948 36516109 46922235 17874550 22293852 221636185 122011 22045340\n",
      "Татьяна Блинова common friends are: 221636185 36297089 82453905\n",
      "Ирина Щеголева common friends are: 95781072 2897607\n",
      "Анна Аджар common friends are: 1368224 3809953 135505636 1374623 146837526 621178 142511067 14820511\n",
      "Сергей Курдяев common friends are: 36297089 964710 17874550 22293852 16703483 100534236\n",
      "Андрей Калугин common friends are: 49870211 1506116 152080588 54977870 138587727 21410611 173133791\n",
      "Владимир Хегай common friends are: 108326072 3322637\n",
      "Александр Четник common friends are: 3809953 1766113 1506116 152080588 54977870 138587727 2043322 47699516 173133791\n",
      "Александр Вержук common friends are: 13722077 1766113 1638978 5682339 2445633 392067 2355943 1598250 14127115 2011659 1847022 1239374 1763132 83914269\n",
      "Ксения Карабанова common friends are: None\n",
      "Дима Олимпийский common friends are: 1368224 49870211 2688232 152080588 21410611 47699516\n",
      "Виктория Ильина common friends are: 2623148 22045340 219913741\n",
      "Полина Ходакова common friends are: 1011081\n",
      "Евген Давыден common friends are: 3809953 11285412 11781737 18509685 1742071 381147 83914269 30251903\n",
      "Antoine Kolesnicheg common friends are: 5682339 2355943 1598250 14127115 3743189 1763132\n",
      "Ирина Ривоненко common friends are: 16703483 36516109\n",
      "Евгений Колтачук common friends are: 3809953 1638978 11285412 1847022 18509685 50123030 1742071 381147 72843068 30251903\n",
      "Дарья Филимонова common friends are: 257558165\n",
      "Санёк Бизин common friends are: 43845889 2897607\n",
      "Сергей Птохов common friends are: 1886474 1239351\n",
      "Олег Батвинов common friends are: 46922235\n",
      "David Bagmanyan common friends are: 3322637 47775839\n",
      "Илья Валентайн common friends are: 7786100 2469813\n",
      "Ольга Конникова common friends are: 45922251 2961415\n",
      "Андрей Шашков common friends are: 1766113 20917763 49870211 1506116 157224076 152080588 2043322 47699516 173133791\n",
      "Evgeniya Bondarenko common friends are: 3809953 5682339 392067 2057020 1598250 14127115 2011659 45922251 2469813 621178 381147 1763132 13722077\n",
      "Ирина Сауляк common friends are: 1766113 1805028 2230277 261369 2961415 2083832 1183601 4772370 1978579 659448 2577145 2859871\n",
      "Роман Koscov common friends are: None\n",
      "Наталья Пинтелина common friends are: 45922251\n",
      "Андрей Кузнецов common friends are: 1766113 6833282 20917763 1506116 49870211 28434247 2688232 11781737 1946088 157224076 54977870 138587727 17128498 21410611 1742071 1434553 2043322 47699516 2099646\n",
      "Влад Гриценко common friends are: 1766113 6833282 20917763 1946088 1182313 152080588 138587727 17128498 1434553 2043322 4362971 2099646 173133791\n",
      "Катя Рыбина common friends are: None\n",
      "Александр Кузнецов common friends are: 1766113 20917763 49870211 1506116 157224076 138587727 2043322 47699516\n",
      "Татьяна Орехова common friends are: 22045340 63438150\n",
      "Насиба Дурдыева common friends are: 36297089 2623148 36516109 17874550\n",
      "Катя Цветкова common friends are: None\n",
      "Виталий Свотин common friends are: 85759720 2623148\n",
      "Якоб Ржавко common friends are: 3809953 1766113 11285412 1742071 1434553\n",
      "Светлана Лобова common friends are: None\n",
      "Елена Кузнецова common friends are: 2623148\n",
      "Dmitrii Sokolov common friends are: None\n"
     ]
    }
   ],
   "source": [
    "# Находим общих друзей\n",
    "main_friends = set(friends_data[0][2])\n",
    "for friend in friends_data[1:]:\n",
    "    print(friend[1], 'common friends are:', end=' ')\n",
    "    common_friends = main_friends.intersection(set(friend[2]))\n",
    "    if len(common_friends) :\n",
    "        print(*common_friends, sep=' ')\n",
    "    else:\n",
    "        print('None')"
   ]
  },
  {
   "cell_type": "code",
   "execution_count": null,
   "metadata": {
    "collapsed": true,
    "deletable": true,
    "editable": true
   },
   "outputs": [],
   "source": [
    "# best_friends = [n for n in outdeg if outdeg[n] > 600 ]\n",
    "# print(*best_friends)"
   ]
  }
 ],
 "metadata": {
  "kernelspec": {
   "display_name": "Python 3",
   "language": "python",
   "name": "python3"
  },
  "language_info": {
   "codemirror_mode": {
    "name": "ipython",
    "version": 3
   },
   "file_extension": ".py",
   "mimetype": "text/x-python",
   "name": "python",
   "nbconvert_exporter": "python",
   "pygments_lexer": "ipython3",
   "version": "3.6.0"
  }
 },
 "nbformat": 4,
 "nbformat_minor": 2
}
