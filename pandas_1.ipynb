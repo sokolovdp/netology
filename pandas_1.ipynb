{
 "cells": [
  {
   "cell_type": "code",
   "execution_count": 4,
   "metadata": {
    "collapsed": true
   },
   "outputs": [],
   "source": [
    "import pandas as pd"
   ]
  },
  {
   "cell_type": "code",
   "execution_count": 88,
   "metadata": {},
   "outputs": [],
   "source": [
    "def count_top3(year_list):\n",
    "    for year in year_list:\n",
    "        df = pd.read_csv('usa_names/yob'+str(year)+'.txt', names=['Name', 'Sex', 'Count'])\n",
    "        df.sort_values(by='Count', axis=0, ascending=False, inplace=True)\n",
    "        top3 = dict(zip(list(df['Name'])[:3], list(df['Count'])[:3]))\n",
    "        print('in {} 3 most popular name were: {}'.format(year, top3))"
   ]
  },
  {
   "cell_type": "code",
   "execution_count": 89,
   "metadata": {},
   "outputs": [
    {
     "name": "stdout",
     "output_type": "stream",
     "text": [
      "in 1900 3 most popular name were: {'Mary': 16707, 'John': 9829, 'William': 8579}\n",
      "in 1950 3 most popular name were: {'James': 86266, 'Robert': 83590, 'Linda': 80439}\n",
      "in 2000 3 most popular name were: {'Jacob': 34467, 'Michael': 32028, 'Matthew': 28572}\n"
     ]
    }
   ],
   "source": [
    "count_top3([1900, 1950, 2000])"
   ]
  },
  {
   "cell_type": "code",
   "execution_count": 103,
   "metadata": {},
   "outputs": [],
   "source": [
    "def count_sex(year_list):\n",
    "    for year in year_list:\n",
    "        df = pd.read_csv('usa_names/yob'+str(year)+'.txt', names=['Name', 'Sex', 'Count'])\n",
    "        female = df[df['Sex'] == 'F'].sum().Count\n",
    "        male = df[df['Sex'] == 'M'].sum().Count\n",
    "        print('for {} there is information about {:7d} men and {:7d} women names'.format(year, male, female))"
   ]
  },
  {
   "cell_type": "code",
   "execution_count": 104,
   "metadata": {},
   "outputs": [
    {
     "name": "stdout",
     "output_type": "stream",
     "text": [
      "for 1900 there is information about  150490 men and  299822 women names\n",
      "for 1950 there is information about 1791474 men and 1713450 women names\n",
      "for 2000 there is information about 1962556 men and 1814738 women names\n"
     ]
    }
   ],
   "source": [
    "count_sex([1900, 1950, 2000])"
   ]
  },
  {
   "cell_type": "code",
   "execution_count": null,
   "metadata": {
    "collapsed": true
   },
   "outputs": [],
   "source": []
  }
 ],
 "metadata": {
  "kernelspec": {
   "display_name": "Python 3",
   "language": "python",
   "name": "python3"
  },
  "language_info": {
   "codemirror_mode": {
    "name": "ipython",
    "version": 3
   },
   "file_extension": ".py",
   "mimetype": "text/x-python",
   "name": "python",
   "nbconvert_exporter": "python",
   "pygments_lexer": "ipython3",
   "version": "3.6.1"
  }
 },
 "nbformat": 4,
 "nbformat_minor": 2
}
