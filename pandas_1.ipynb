{
 "cells": [
  {
   "cell_type": "code",
   "execution_count": 1,
   "metadata": {
    "collapsed": true
   },
   "outputs": [],
   "source": [
    "import pandas as pd"
   ]
  },
  {
   "cell_type": "code",
   "execution_count": 2,
   "metadata": {},
   "outputs": [],
   "source": [
    "def count_top3(year_list):\n",
    "    df_list = list()\n",
    "    for year in year_list:\n",
    "        df = pd.read_csv('usa_names/yob'+str(year)+'.txt', names=['Name', 'Sex', 'Count'])\n",
    "        df.sort_values(by='Count', axis=0, ascending=False, inplace=True)\n",
    "        df_list.append(df)\n",
    "    \n",
    "    if len(df_list) == 1:\n",
    "        df = df_list[0]\n",
    "        top3 = dict(zip(list(df['Name'])[:3], list(df['Count'])[:3]))\n",
    "        print('in {0} year 3 most popular name were: {1}'.format(year_list[0], top3))\n",
    "        return\n",
    "    \n",
    "    main_df = df_list[0]\n",
    "    for i, df in enumerate(df_list[1:]):\n",
    "        main_df = pd.merge(main_df, df, on=['Name', 'Sex'])\n",
    "    \n",
    "    count_list = [col for col in list(main_df) if 'Count' in col]\n",
    "    \n",
    "    main_df['Total'] = main_df[count_list[0]]\n",
    "    for count in count_list[1:]:\n",
    "        main_df['Total'] += main_df[count]\n",
    "  \n",
    "    main_df.sort_values(by='Total', axis=0, ascending=False, inplace=True)\n",
    "    top3 = dict(zip(list(main_df['Name'])[:3], list(main_df['Total'])[:3]))\n",
    "    print('in {0} years 3 most popular name were: {1}'.format(year_list, top3))"
   ]
  },
  {
   "cell_type": "code",
   "execution_count": 3,
   "metadata": {},
   "outputs": [
    {
     "name": "stdout",
     "output_type": "stream",
     "text": [
      "in [1900, 1950, 2000] years 3 most popular name were: {'James': 111489, 'John': 109360, 'Robert': 101145}\n"
     ]
    }
   ],
   "source": [
    "count_top3([1900, 1950, 2000])"
   ]
  },
  {
   "cell_type": "code",
   "execution_count": 6,
   "metadata": {
    "collapsed": true
   },
   "outputs": [],
   "source": [
    "def count_sex(year_list):\n",
    "    for year in year_list:\n",
    "        df = pd.read_csv('usa_names/yob'+str(year)+'.txt', names=['Name', 'Sex', 'Count'])\n",
    "        female = df[df['Sex'] == 'F'].Count.sum()\n",
    "        male = df[df['Sex'] == 'M'].Count.sum()\n",
    "        print('for {} there is information about {:7d} men and {:7d} women names'.format(year, male, female))"
   ]
  },
  {
   "cell_type": "code",
   "execution_count": 7,
   "metadata": {},
   "outputs": [
    {
     "name": "stdout",
     "output_type": "stream",
     "text": [
      "for 1900 there is information about  150490 men and  299822 women names\n",
      "for 1950 there is information about 1791474 men and 1713450 women names\n",
      "for 2000 there is information about 1962556 men and 1814738 women names\n"
     ]
    }
   ],
   "source": [
    "count_sex([1900, 1950, 2000])"
   ]
  },
  {
   "cell_type": "code",
   "execution_count": null,
   "metadata": {
    "collapsed": true
   },
   "outputs": [],
   "source": []
  }
 ],
 "metadata": {
  "kernelspec": {
   "display_name": "Python 3",
   "language": "python",
   "name": "python3"
  },
  "language_info": {
   "codemirror_mode": {
    "name": "ipython",
    "version": 3
   },
   "file_extension": ".py",
   "mimetype": "text/x-python",
   "name": "python",
   "nbconvert_exporter": "python",
   "pygments_lexer": "ipython3",
   "version": "3.6.1"
  }
 },
 "nbformat": 4,
 "nbformat_minor": 2
}
