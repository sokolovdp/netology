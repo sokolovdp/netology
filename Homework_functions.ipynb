{
 "cells": [
  {
   "cell_type": "code",
   "execution_count": 19,
   "metadata": {
    "collapsed": true
   },
   "outputs": [],
   "source": [
    "def get_all_documents() :\n",
    "    documents = [\n",
    "            {\"type\": \"passport\", \"number\": \"2207-876234\", \"name\": \"Василий Гупкин\"},\n",
    "            {\"type\": \"invoice\", \"number\": \"11-2\", \"name\": \"Геннадий Покемонов\"},\n",
    "            {\"type\": \"insurance\", \"number\": \"10006\", \"name\": \"Аристарх Павлов\"}\n",
    "          ]\n",
    "    return documents\n",
    "\n",
    "def get_all_directories() :\n",
    "    directories = {\n",
    "            '1': ['2207-876234', '11-2'],\n",
    "            '2': ['10006'],\n",
    "            '3': []\n",
    "          }\n",
    "    return directories"
   ]
  },
  {
   "cell_type": "code",
   "execution_count": 2,
   "metadata": {
    "collapsed": true
   },
   "outputs": [],
   "source": [
    "def print_help() :\n",
    "        print(\"list of all commands:\")\n",
    "        print(\"  l - list all docs\")\n",
    "        print(\"  f <document number> - show name in the doc\")\n",
    "        print(\"  s <document number> - show directory where is the doc\")\n",
    "        print(\"  a - add new document\")\n",
    "        print(\"  d <document number> - delete doc\")\n",
    "        print(\"  m <document number> - move doc from the one dir to another\")\n",
    "        print(\"  xl - list of all directories\")\n",
    "        print(\"  xs <dir number> - show all docs in the dir\")\n",
    "        print(\"  xa <dir number> - add new dir\")\n",
    "        print(\"  xd <dir number> - delete dir\")\n",
    "        print(\"  e, ex, exit - exit program\")\n",
    "        print(\"  h, he, help - show all commands\")"
   ]
  },
  {
   "cell_type": "code",
   "execution_count": 6,
   "metadata": {
    "collapsed": true
   },
   "outputs": [],
   "source": [
    "def print_dir_with_doc(num, adir) :\n",
    "    for d in adir.items():\n",
    "        if num in d[1] :\n",
    "            print(d)"
   ]
  },
  {
   "cell_type": "code",
   "execution_count": 3,
   "metadata": {
    "collapsed": true
   },
   "outputs": [],
   "source": [
    "def get_command() :\n",
    "    while True:\n",
    "        c = input(\"Enter command (h - help, ex - exit):\").lower().split()\n",
    "        if (len(c) > 0) :\n",
    "            return c"
   ]
  },
  {
   "cell_type": "code",
   "execution_count": 4,
   "metadata": {
    "collapsed": true
   },
   "outputs": [],
   "source": [
    "def l_com(adocs, adir):\n",
    "    for i,d in enumerate(adocs ) :\n",
    "        print(i+1,d)"
   ]
  },
  {
   "cell_type": "code",
   "execution_count": 9,
   "metadata": {
    "collapsed": false
   },
   "outputs": [],
   "source": [
    "def find_dir_by_num(num, adir) :\n",
    "    for d in adir.items():\n",
    "        if num in d[1] :\n",
    "            return d[0]\n",
    "    print('error: document '+num + ' was not found in all directories')"
   ]
  },
  {
   "cell_type": "code",
   "execution_count": 5,
   "metadata": {
    "collapsed": true
   },
   "outputs": [],
   "source": [
    "def f_com(num, adocs, adir):\n",
    "    for d in adocs :\n",
    "        if d['number'] == num :\n",
    "            print(d)\n",
    "            return\n",
    "    print(\"no document with number \" + num)"
   ]
  },
  {
   "cell_type": "code",
   "execution_count": 7,
   "metadata": {
    "collapsed": true
   },
   "outputs": [],
   "source": [
    "def s_com(num, adocs, adir):\n",
    "    for d in adocs :\n",
    "        if d['number'] == num :\n",
    "            print_dir_with_doc(num, adir)\n",
    "            return\n",
    "    print(\"no document with number \" + num)"
   ]
  },
  {
   "cell_type": "code",
   "execution_count": 8,
   "metadata": {
    "collapsed": true
   },
   "outputs": [],
   "source": [
    "def d_com(num, adocs, adir):\n",
    "    for d in adocs :\n",
    "        if d['number'] == num :\n",
    "            print(\"document \" + str(d) + \" deleted\")\n",
    "            adocs.remove(d)\n",
    "            return\n",
    "    print(\"no document with number \" + num)"
   ]
  },
  {
   "cell_type": "code",
   "execution_count": 10,
   "metadata": {
    "collapsed": true
   },
   "outputs": [],
   "source": [
    "def m_com(num, adocs, adir):\n",
    "    for d in adocs :\n",
    "        if d['number'] == num :\n",
    "            old_dir = find_dir_by_num(num, adir)\n",
    "            while True:\n",
    "                new_dir = input(\"document found in the dir #\"+old_dir[0]+\" enter new dir number:\")\n",
    "                if new_dir in adir.keys() :\n",
    "                    adir.get(old_dir).remove(num)\n",
    "                    adir.get(new_dir).append(num)\n",
    "                    print(\"document moved to the dir #\"+new_dir)\n",
    "                    break\n",
    "                else:\n",
    "                    print(\"wrong dir number\")\n",
    "            return\n",
    "    print(\"no document with number \" + num)"
   ]
  },
  {
   "cell_type": "code",
   "execution_count": 34,
   "metadata": {
    "collapsed": true
   },
   "outputs": [],
   "source": [
    "def xl_com(adocs, adir):\n",
    "    for d in adir.items() :\n",
    "        print(d)"
   ]
  },
  {
   "cell_type": "code",
   "execution_count": 49,
   "metadata": {
    "collapsed": false
   },
   "outputs": [
    {
     "name": "stdout",
     "output_type": "stream",
     "text": [
      "Start of work, Data loaded\n",
      "\n",
      "Enter command (h - help, ex - exit):xa\n",
      "directory #4 was created\n",
      "Enter command (h - help, ex - exit):xl\n",
      "('2', ['10006'])\n",
      "('4', [])\n",
      "('1', ['2207-876234', '11-2'])\n",
      "('3', [])\n",
      "Enter command (h - help, ex - exit):xd 3\n",
      "directory #3 deleted\n",
      "Enter command (h - help, ex - exit):h\n",
      "list of all commands:\n",
      "  l - list all docs\n",
      "  f <document number> - show name in the doc\n",
      "  s <document number> - show directory where is the doc\n",
      "  a - add new document\n",
      "  d <document number> - delete doc\n",
      "  m <document number> - move doc from the one dir to another\n",
      "  xl - list of all directories\n",
      "  xs <dir number> - show all docs in the dir\n",
      "  xa <dir number> - add new dir\n",
      "  xd <dir number> - delete dir\n",
      "  e, ex, exit - exit program\n",
      "  h, he, help - show all commands\n",
      "Enter command (h - help, ex - exit):l\n",
      "1 {'number': '2207-876234', 'name': 'Василий Гупкин', 'type': 'passport'}\n",
      "2 {'number': '11-2', 'name': 'Геннадий Покемонов', 'type': 'invoice'}\n",
      "3 {'number': '10006', 'name': 'Аристарх Павлов', 'type': 'insurance'}\n",
      "Enter command (h - help, ex - exit):a\n",
      "enter document type:pass\n",
      "enter document number:12312-4\n",
      "enter document name:пупиткин вася\n",
      "enter document directory:1\n",
      "document type: pass number: 12312-4 name: пупиткин вася added to the dir #1\n",
      "Enter command (h - help, ex - exit):уч\n",
      "wrong command, for help type - h\n",
      "Enter command (h - help, ex - exit):д\n",
      "wrong command, for help type - h\n",
      "Enter command (h - help, ex - exit):l\n",
      "1 {'number': '2207-876234', 'name': 'Василий Гупкин', 'type': 'passport'}\n",
      "2 {'number': '11-2', 'name': 'Геннадий Покемонов', 'type': 'invoice'}\n",
      "3 {'number': '10006', 'name': 'Аристарх Павлов', 'type': 'insurance'}\n",
      "4 {'number': '12312-4', 'name': 'пупиткин вася', 'type': 'pass'}\n",
      "Enter command (h - help, ex - exit):ex\n",
      "\n",
      "\n",
      "End of work, Data saved\n"
     ]
    }
   ],
   "source": [
    "def xs_com(num, adocs, adir):\n",
    "    if num in adir.keys():\n",
    "        print (num + \" \" + str(adir.get(num)) )\n",
    "        return\n",
    "    else :\n",
    "        print(\"no directory with number \" + num)\n",
    "\n",
    "def no_invalid_chars(line) :\n",
    "    if set('[~!@#$%^&*()_+{}\":;\\']+$ ').intersection(line):\n",
    "        return False\n",
    "    else :\n",
    "        return True\n",
    "\n",
    "def a_com(adocs, adir):\n",
    "    while True:\n",
    "        dtype = input(\"enter document type:\")\n",
    "        if dtype.isalpha() :\n",
    "            break\n",
    "        else:\n",
    "            print (\"invalid character in the doc type\")\n",
    "    while True:\n",
    "        dnum = input(\"enter document number:\")\n",
    "        if no_invalid_chars(dnum) :\n",
    "            break\n",
    "        else:\n",
    "            print (\"invalid character in the doc number\")\n",
    "    while True:\n",
    "        dname = input(\"enter document name:\")\n",
    "        if all(x.isalpha() or x.isspace() for x in dname) :\n",
    "            break\n",
    "        else:\n",
    "            print (\"invalid character in the doc name\")\n",
    "    while True:\n",
    "        d_dir = input(\"enter document directory:\")\n",
    "        if d_dir in adir.keys() :\n",
    "            break\n",
    "        else:\n",
    "            print (\"wrong directory number: available numbers are: \" + str(adir.keys() ))\n",
    "    \n",
    "    adocs.append( {\"type\":dtype, \"number\":dnum, \"name\":dname} )\n",
    "    d_list = adir.get(d_dir)\n",
    "    d_list.append(dnum)\n",
    "    adir[d_dir] = d_list\n",
    "    print(\"document type: \"+dtype+\" number: \"+dnum+\" name: \"+dname+ \" added to the dir #\"+d_dir)\n",
    "\n",
    "def xd_com(d_dir, adocs, adir):\n",
    "    if d_dir in adir.keys() :\n",
    "        d_list = adir.get(d_dir)\n",
    "        if not len(d_list) :\n",
    "            del adir[d_dir]\n",
    "            print(\"directory #\"+d_dir+\" deleted\")\n",
    "        else:\n",
    "            print (\"directory has documents in it,  please move all docs to another dir first!\")  \n",
    "    else:\n",
    "        print (\"wrong directory number, valid dir numbers are: \" + \", \".join(list(adir.keys())) )  \n",
    "\n",
    "def xa_com(adocs, adir):\n",
    "    for i in range(1,1000):\n",
    "        if (str(i) not in adir.keys()):\n",
    "            t = list()\n",
    "            adir[str(i)] = t\n",
    "            print (\"directory #\"+str(i)+\" was created\")\n",
    "            return\n",
    "    print(\"programm has reached maximum number 1000 of directories\")\n",
    "\n",
    "def main() :\n",
    "    possibles = globals().copy()\n",
    "    possibles.update(locals())\n",
    "    all_docs = get_all_documents()\n",
    "    all_dir = get_all_directories()\n",
    "    c_list = { \"l\":1, \"f\":2, \"s\":2, \"d\":2, \"m\":2, \"xl\":1, \"xs\":2, \"a\":1, \"xd\":2, \"xa\":1 }\n",
    "    print(\"Program started, data loaded\\n\")\n",
    "    \n",
    "    while True:\n",
    "        c = get_command()\n",
    "        if c[0] in [\"ex\", \"e\", \"exi\", \"exit\"] :\n",
    "            break\n",
    "        if c[0] in [\"h\", \"he\", \"hel\", \"help\"] :\n",
    "            print_help()\n",
    "            continue\n",
    "        if (len(c)) > 2 :\n",
    "            print(\"error: too many parameters\")\n",
    "            continue\n",
    "        if c[0] in c_list :\n",
    "            func = possibles.get(c[0]+\"_com\")\n",
    "            \n",
    "            if (len(c) == 1) and (c_list.get(c[0]) == 1):\n",
    "                func(all_docs, all_dir)\n",
    "            elif (len(c) == 2) and (c_list.get(c[0]) == 2) :\n",
    "                func(c[1], all_docs, all_dir)\n",
    "            else:\n",
    "                print(\"error: wrong number of parameters\")\n",
    "        else :\n",
    "            print(\"wrong command, for help type - h\")\n",
    "        \n",
    "    print(\"\\n\\nProgram stopped, data saved\")\n",
    "\n",
    "if __name__ == \"__main__\":\n",
    "    main()"
   ]
  },
  {
   "cell_type": "code",
   "execution_count": null,
   "metadata": {
    "collapsed": true
   },
   "outputs": [],
   "source": []
  }
 ],
 "metadata": {
  "kernelspec": {
   "display_name": "Python [conda root]",
   "language": "python",
   "name": "conda-root-py"
  },
  "language_info": {
   "codemirror_mode": {
    "name": "ipython",
    "version": 3
   },
   "file_extension": ".py",
   "mimetype": "text/x-python",
   "name": "python",
   "nbconvert_exporter": "python",
   "pygments_lexer": "ipython3",
   "version": "3.5.2"
  }
 },
 "nbformat": 4,
 "nbformat_minor": 2
}
